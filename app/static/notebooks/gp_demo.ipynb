{
 "cells": [
  {
   "cell_type": "code",
   "execution_count": 1,
   "metadata": {},
   "outputs": [],
   "source": [
    "import numpy as np\n",
    "import matplotlib.pyplot as plot"
   ]
  },
  {
   "cell_type": "markdown",
   "metadata": {},
   "source": [
    "In this notebook, I present a practical example of what is actually happening when you train a Gaussian process model. I don't suggest you ever use this implementation to do actual machine learning. I have coded everything with readability in mind, at the cost of efficiency. There are also a bunch of cool linear algebra and numerical stability tricks that I have also skipped in the interest of simplicity.\n",
    "\n",
    "The leading libraries for working with GPs (in Python) are;\n",
    "* [GPy](https://sheffieldml.github.io/GPy/) - Probably the most popular\n",
    "* [George](https://george.readthedocs.io/en/latest/) - Written by an astrophysicist I had beers with once, so maybe I'm biased, but this is the one I used to use as it gives the user a lot of flexibility and plays well with stochastic sampling methods\n",
    "* [Scikit-Learn](https://scikit-learn.org/stable/modules/gaussian_process.html) - Used to be considered a poor implementation, not sure if that is still true"
   ]
  },
  {
   "cell_type": "markdown",
   "metadata": {},
   "source": [
    "First, some notation. We have;\n",
    "\n",
    "* $x_t$ - the inputs for our training data\n",
    "* $y_t$ - the outputs for our training data\n",
    "* $x_p$ - the inputs for which we want to predict the output\n",
    "* $y_p$ - the (unknown) outputs that we want to predict\n",
    "\n",
    "We generate some training data;"
   ]
  },
  {
   "cell_type": "code",
   "execution_count": 2,
   "metadata": {},
   "outputs": [
    {
     "data": {
      "image/png": "[encoded data removed]",
      "text/plain": [
       "<Figure size 864x504 with 1 Axes>"
      ]
     },
     "metadata": {
      "needs_background": "light"
     },
     "output_type": "display_data"
    }
   ],
   "source": [
    "np.random.seed(8235)\n",
    "\n",
    "n_data = 10\n",
    "measurement_uncertainty = 0.2\n",
    "\n",
    "x_t = 10 * np.sort(np.random.rand(n_data))\n",
    "y_t = np.sin(x_t)  + measurement_uncertainty * np.random.randn(len(x_t))\n",
    "\n",
    "x_p = np.linspace(min(x_t)-1, max(x_t)+1, 200)\n",
    "\n",
    "fig, axs = plot.subplots()\n",
    "fig.set_size_inches(12,7)\n",
    "axs.set_xlabel('x', size=15)\n",
    "axs.set_ylabel('y=f(x)', size=15)\n",
    "axs.scatter(x_t, y_t);"
   ]
  },
  {
   "cell_type": "markdown",
   "metadata": {},
   "source": [
    "Our model is that our outputs are jointly Gaussian distributed, i.e.,\n",
    "\n",
    "$$  P(y_p|y_t) \\propto P(y_p,y_t) \\propto \\exp\\left[-\\frac{1}{2} \\left(\\begin{array}{c} y_t \\ y_p \\end{array}\\right)^T\\Sigma^{-1}\\left(\\begin{array}{c} y_t \\ y_p \\end{array}\\right)\\right]  $$\n",
    "\n",
    "Where ($y_t, y_p$) is the concatenated vector of our known and unknown outputs and $\\Sigma$ is the covariance matrix between all of the outputs.\n",
    "\n",
    "The problem is, we don't know $y_p$, so we can't compute this directly. We therefore make the _assumption_ that we can approximate the covariance between two outputs ($y_t, y_p$) as a function of the inputs ($x_t, x_p$)."
   ]
  },
  {
   "cell_type": "markdown",
   "metadata": {},
   "source": [
    "The standard choice for this function is the \"squared exponential\" kernel, but remember that this is just a choice!\n",
    "\n",
    "$$ \\Sigma_{ij} = \\langle y_i, y_j\\rangle \\approx \\kappa(x_i, x_j) = \\exp\\left(-\\frac{(x_i - x_j)^2 }{2l^2} \\right) + \\alpha\\delta_{ij} $$\n",
    "\n",
    "Where here $l$ is our free parameter, $\\alpha$ is our (homoskedastic) measurement uncertainty and $\\delta_{ij}$ is the Kroenecker delta function. "
   ]
  },
  {
   "cell_type": "code",
   "execution_count": 3,
   "metadata": {},
   "outputs": [],
   "source": [
    "def kernel(xi, xj, l):\n",
    "    \"\"\"\n",
    "    Remember, any positive definite, symmetric function of the inputs will do here!\n",
    "    \"\"\"\n",
    "    \n",
    "    squared_residual = np.square(xi-xj)\n",
    "    covariance = np.exp(-1*squared_residual/(2*l*l))\n",
    "    return covariance\n",
    "\n",
    "def kernel_matrix(xs, l):\n",
    "    \"\"\"\n",
    "    Since the matrices are symmetric, we can compute them more efficiently\n",
    "    \"\"\"\n",
    "    \n",
    "    n = len(xs)\n",
    "    \n",
    "    M = np.zeros((n, n))\n",
    "    for i in range(n):\n",
    "        for j in range(i):\n",
    "            M[i,j] = kernel(xs[i], xs[j], l)\n",
    "    M = M + M.T\n",
    "    for i in range(n):\n",
    "        M[i,i] = kernel(xs[i], xs[i], l) + measurement_uncertainty**2\n",
    "        \n",
    "    return M"
   ]
  },
  {
   "cell_type": "markdown",
   "metadata": {},
   "source": [
    "The first step is to figure out what the free parameters are (train the Gaussian process model).\n",
    "\n",
    "The $\\Sigma$ in the Likelihood function above contains covariances between the training outputs ($y_t$) and the predicted outputs ($y_p$). It is convenient to consider the different blocks of this matrix;\n",
    "\n",
    "$$ \\Sigma = \\left(\\begin{array}{cc} T & C^T \\\\ C & P \\end{array}\\right) $$\n",
    "\n",
    "* $T$ - the covariance matrix for the training outputs, made by taking pairwise covariances $\\langle y_t,y_t \\rangle$\n",
    "* $P$ - the covariance matrix for the outputs we want to predict, made by taking pairwise covariances $\\langle y_p,y_p \\rangle$\n",
    "* $C$ - the covariance matrix between the known, training outputs and the unknown outputs to predict $\\langle y_p,y_t \\rangle$\n",
    "\n",
    "Since we're still assuming that our outputs are jointly Gaussian distributed, we use a Gaussian likelihood for this also, in order to find the most likely values for our free parameter $l$.\n",
    "\n",
    "$$ P(\\alpha, l | x_t, f_t) = P(T | x_t, y_t) \\propto  \\frac{1}{2|T|} \\exp\\left(-\\frac{1}{2}y_t^T T^{-1} y_t \\right)  $$\n",
    "\n",
    "Where the elements of $T$ can be computed using the Kernel function, which is a function of $l$."
   ]
  },
  {
   "cell_type": "code",
   "execution_count": 4,
   "metadata": {},
   "outputs": [],
   "source": [
    "# logs are more stable, and are monotonic so work for maximisation\n",
    "# since l must be positive, we pass its logarithm for optimisation later\n",
    "def neg_log_likelihood(log_l):\n",
    "    \n",
    "    l = np.exp(log_l)\n",
    "                \n",
    "    T = kernel_matrix(x_t, l)\n",
    "        \n",
    "    # multivariate Gaussian log likelihood\n",
    "    ll = -0.5*np.log(np.linalg.det(T)) - (0.5*np.dot(y_t,np.linalg.solve(T, y_t))) - np.log(2.*np.pi)\n",
    "    \n",
    "    print(f\"Log Likelihood: {ll}\")\n",
    "                            \n",
    "    return -ll"
   ]
  },
  {
   "cell_type": "markdown",
   "metadata": {},
   "source": [
    "For simplicity, I will optimise the likelihood using a scipy routine, but it's quite common to use a full Bayesian treatment here, since Gaussian likelihoods are very fast to compute."
   ]
  },
  {
   "cell_type": "code",
   "execution_count": 5,
   "metadata": {},
   "outputs": [],
   "source": [
    "from scipy.optimize import minimize"
   ]
  },
  {
   "cell_type": "code",
   "execution_count": 6,
   "metadata": {},
   "outputs": [
    {
     "name": "stdout",
     "output_type": "stream",
     "text": [
      "Optimising l:\n",
      "\n",
      "Log Likelihood: -1.2038508653292523\n",
      "Log Likelihood: -1.2038508247602695\n",
      "Log Likelihood: 1.4986278795149\n",
      "Log Likelihood: 1.498627896855321\n",
      "Log Likelihood: -1.0046019674290614\n",
      "Log Likelihood: -1.0046021266283782\n",
      "Log Likelihood: 1.5969944183769633\n",
      "Log Likelihood: 1.5969944224813575\n",
      "Log Likelihood: 1.6017623612261378\n",
      "Log Likelihood: 1.6017623604491251\n",
      "Log Likelihood: 1.6019256745168962\n",
      "Log Likelihood: 1.6019256745553445\n",
      "Log Likelihood: 1.6019260806170736\n",
      "Log Likelihood: 1.6019260806174316\n",
      "Log Likelihood: 1.6019260806518476\n",
      "Log Likelihood: 1.6019260806518472\n",
      "\n",
      "Best l = 1.6259474735691932\n"
     ]
    }
   ],
   "source": [
    "print('Optimising l:')\n",
    "print()\n",
    "l0 = np.log(0.5)\n",
    "result = minimize(neg_log_likelihood, l0)\n",
    "l_max = result.x[0]\n",
    "print()\n",
    "print(f\"Best l = {np.exp(l_max)}\")"
   ]
  },
  {
   "cell_type": "markdown",
   "metadata": {},
   "source": [
    "Now that we have our optimised value for $l$, we can compute all of the other values of $\\Sigma$. From this, we can plug straight in to the Gaussian process update equations (the derivation of these is long, but you can see the full derivation on some loser's blog [here](http://www.concernsofadataguy.com/blog/4)), which define a multivariate Gaussian distribution from which our function is drawn\n",
    "\n",
    "$$ P(y_p|y_t) \\sim \\mathcal{N}(CT^{-1}y_t, P-CT^{-1}C^T) $$\n",
    "\n",
    "So that our predictions are given by the mean vector\n",
    "\n",
    "$$ \\mu \\approx CT^{-1}y_t $$\n",
    "\n",
    "with uncertainty summarised by the covariance matrix\n",
    "\n",
    "$$ \\Sigma \\approx P-CT^{-1}C^T$$\n"
   ]
  },
  {
   "cell_type": "code",
   "execution_count": 7,
   "metadata": {},
   "outputs": [],
   "source": [
    "# compute the parts of the matrix\n",
    "\n",
    "C = np.zeros((len(x_p), len(x_t)))\n",
    "for i in range(len(x_p)):\n",
    "    for j in range(len(x_t)):\n",
    "        C[i, j] = kernel(x_p[i], x_t[j], l_max)\n",
    "        \n",
    "P = kernel_matrix(x_p, l_max)\n",
    "T = kernel_matrix(x_t, l_max)"
   ]
  },
  {
   "cell_type": "code",
   "execution_count": 8,
   "metadata": {},
   "outputs": [],
   "source": [
    "# get our distribution over functions\n",
    "\n",
    "mu_p = np.dot(C, np.linalg.solve(T, y_t))\n",
    "cov_p = P - np.dot(C, np.dot(np.linalg.inv(T), C.T))\n",
    "sig_p = np.sqrt(np.diag(cov_p))"
   ]
  },
  {
   "cell_type": "markdown",
   "metadata": {},
   "source": [
    "We now have the mean and covariance of our function, so we can show our best guess, with uncertainty, of what our approximation might look like"
   ]
  },
  {
   "cell_type": "code",
   "execution_count": 9,
   "metadata": {},
   "outputs": [
    {
     "data": {
      "image/png": "[encoded data removed]",
      "text/plain": [
       "<Figure size 864x504 with 1 Axes>"
      ]
     },
     "metadata": {
      "needs_background": "light"
     },
     "output_type": "display_data"
    }
   ],
   "source": [
    "fig, axs = plot.subplots()\n",
    "\n",
    "\n",
    "axs.scatter(x_t, y_t, label='Training Data')\n",
    "axs.fill_between(x_p, mu_p - sig_p, mu_p + sig_p, alpha=0.1, label=r'$1\\sigma$ Confidence')\n",
    "axs.plot(x_p, mu_p, label='Predicted Function', color='k')\n",
    "axs.set_xlim(min(x_p),max(x_p))\n",
    "axs.legend()\n",
    "\n",
    "axs.set_xlabel('x', size=15)\n",
    "axs.set_ylabel('y=f(x)', size=15)\n",
    "\n",
    "fig.set_size_inches(12,7)"
   ]
  }
 ],
 "metadata": {
  "kernelspec": {
   "display_name": "Python 3.7.6 64-bit ('base': conda)",
   "language": "python",
   "name": "python37664bitbasecondab95d1cd6133a44a5a90e16cd715dd17b"
  },
  "language_info": {
   "codemirror_mode": {
    "name": "ipython",
    "version": 3
   },
   "file_extension": ".py",
   "mimetype": "text/x-python",
   "name": "python",
   "nbconvert_exporter": "python",
   "pygments_lexer": "ipython3",
   "version": "3.7.7"
  }
 },
 "nbformat": 4,
 "nbformat_minor": 4
}
